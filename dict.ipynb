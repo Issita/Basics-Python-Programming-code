{
 "cells": [
  {
   "cell_type": "code",
   "execution_count": 1,
   "id": "1294d328-e2d5-4627-804a-596af4247949",
   "metadata": {},
   "outputs": [],
   "source": [
    "d = {}"
   ]
  },
  {
   "cell_type": "code",
   "execution_count": 2,
   "id": "dd9179bb-418e-48c6-996e-a4f31d98b380",
   "metadata": {},
   "outputs": [
    {
     "data": {
      "text/plain": [
       "{}"
      ]
     },
     "execution_count": 2,
     "metadata": {},
     "output_type": "execute_result"
    }
   ],
   "source": [
    "d\n"
   ]
  },
  {
   "cell_type": "code",
   "execution_count": 3,
   "id": "f04ba3ad-7be0-4117-9187-d9838aa55bbe",
   "metadata": {},
   "outputs": [
    {
     "data": {
      "text/plain": [
       "dict"
      ]
     },
     "execution_count": 3,
     "metadata": {},
     "output_type": "execute_result"
    }
   ],
   "source": [
    "type(d)"
   ]
  },
  {
   "cell_type": "code",
   "execution_count": 5,
   "id": "171e85bf-e39f-4d0e-b64c-c43a94bcf31a",
   "metadata": {},
   "outputs": [],
   "source": [
    "# key value pair \n",
    "# key should b always be unique"
   ]
  },
  {
   "cell_type": "code",
   "execution_count": 6,
   "id": "2236e052-456a-48bd-bbdf-d596a773f79a",
   "metadata": {},
   "outputs": [],
   "source": [
    "d1 = {'key' : 'Ishu'}"
   ]
  },
  {
   "cell_type": "code",
   "execution_count": 7,
   "id": "59279de7-356c-49f8-bab5-f2631111c370",
   "metadata": {},
   "outputs": [
    {
     "data": {
      "text/plain": [
       "{'key': 'Ishu'}"
      ]
     },
     "execution_count": 7,
     "metadata": {},
     "output_type": "execute_result"
    }
   ],
   "source": [
    "d1"
   ]
  },
  {
   "cell_type": "code",
   "execution_count": 8,
   "id": "e34ef1b5-5f8c-465a-91a9-f25be79c81e5",
   "metadata": {},
   "outputs": [],
   "source": [
    "d2 ={'name' : 'Issita', 'gmail' : 'issita@gmail.com', 'number': '5678893556'}"
   ]
  },
  {
   "cell_type": "code",
   "execution_count": 9,
   "id": "a6349dbf-70ae-46d4-8140-1e36f27c0c74",
   "metadata": {},
   "outputs": [
    {
     "data": {
      "text/plain": [
       "{'name': 'Issita', 'gmail': 'issita@gmail.com', 'number': '5678893556'}"
      ]
     },
     "execution_count": 9,
     "metadata": {},
     "output_type": "execute_result"
    }
   ],
   "source": [
    "d2"
   ]
  },
  {
   "cell_type": "code",
   "execution_count": 10,
   "id": "2a699712-e52a-49e6-9d83-99e3e8e7afea",
   "metadata": {},
   "outputs": [
    {
     "ename": "TypeError",
     "evalue": "'dict' object is not callable",
     "output_type": "error",
     "traceback": [
      "\u001b[0;31m---------------------------------------------------------------------------\u001b[0m",
      "\u001b[0;31mTypeError\u001b[0m                                 Traceback (most recent call last)",
      "Cell \u001b[0;32mIn[10], line 1\u001b[0m\n\u001b[0;32m----> 1\u001b[0m \u001b[43md2\u001b[49m\u001b[43m(\u001b[49m\u001b[38;5;241;43m0\u001b[39;49m\u001b[43m)\u001b[49m\n",
      "\u001b[0;31mTypeError\u001b[0m: 'dict' object is not callable"
     ]
    }
   ],
   "source": [
    "d2(0)"
   ]
  },
  {
   "cell_type": "code",
   "execution_count": 20,
   "id": "d7682232-cc5c-4ea2-bdd1-a74119f2fc8d",
   "metadata": {},
   "outputs": [],
   "source": [
    "d3 = { 234 : 'ishu' , \"_ear\" : \"bekar\", True : 45623}"
   ]
  },
  {
   "cell_type": "code",
   "execution_count": 21,
   "id": "dfee233f-a5dd-457a-8ffa-072ec1480ccd",
   "metadata": {},
   "outputs": [
    {
     "data": {
      "text/plain": [
       "{234: 'ishu', '_ear': 'bekar', True: 45623}"
      ]
     },
     "execution_count": 21,
     "metadata": {},
     "output_type": "execute_result"
    }
   ],
   "source": [
    "d3"
   ]
  },
  {
   "cell_type": "code",
   "execution_count": 23,
   "id": "f224b267-7bfd-49bd-8a5e-4873388997ea",
   "metadata": {},
   "outputs": [
    {
     "data": {
      "text/plain": [
       "'ishu'"
      ]
     },
     "execution_count": 23,
     "metadata": {},
     "output_type": "execute_result"
    }
   ],
   "source": [
    "d3[234]"
   ]
  },
  {
   "cell_type": "code",
   "execution_count": 25,
   "id": "49154634-f428-4d04-bc5a-344d617359ea",
   "metadata": {},
   "outputs": [
    {
     "data": {
      "text/plain": [
       "45623"
      ]
     },
     "execution_count": 25,
     "metadata": {},
     "output_type": "execute_result"
    }
   ],
   "source": [
    "d3[1]"
   ]
  },
  {
   "cell_type": "code",
   "execution_count": 26,
   "id": "edee902d-eb5c-4d13-b3aa-e72d13c6188a",
   "metadata": {},
   "outputs": [
    {
     "data": {
      "text/plain": [
       "45623"
      ]
     },
     "execution_count": 26,
     "metadata": {},
     "output_type": "execute_result"
    }
   ],
   "source": [
    "d3 [True]"
   ]
  },
  {
   "cell_type": "code",
   "execution_count": 29,
   "id": "96742b8b-d1ca-4d4f-9b36-ccbafdf15f26",
   "metadata": {},
   "outputs": [],
   "source": [
    "d4 = {\"name\" : \"ishu\", \"mail_id\" : \"ghsg@gmail.com\", \"name\" : \"issita\"}"
   ]
  },
  {
   "cell_type": "code",
   "execution_count": 30,
   "id": "cef26744-1e68-4b81-97df-8ca32c50d3a9",
   "metadata": {},
   "outputs": [
    {
     "data": {
      "text/plain": [
       "{'name': 'issita', 'mail_id': 'ghsg@gmail.com'}"
      ]
     },
     "execution_count": 30,
     "metadata": {},
     "output_type": "execute_result"
    }
   ],
   "source": [
    "d4"
   ]
  },
  {
   "cell_type": "code",
   "execution_count": 31,
   "id": "6d30ef46-f170-4898-9e05-858de9ef41db",
   "metadata": {},
   "outputs": [
    {
     "data": {
      "text/plain": [
       "'issita'"
      ]
     },
     "execution_count": 31,
     "metadata": {},
     "output_type": "execute_result"
    }
   ],
   "source": [
    "d4[\"name\"]"
   ]
  },
  {
   "cell_type": "code",
   "execution_count": 32,
   "id": "df2bd2a6-3f74-4b40-8bb0-43fb6c51c9f1",
   "metadata": {},
   "outputs": [],
   "source": [
    "d5 = {\"company\" : \"pwskills\" , \"course\" : [\"web dev\" , \"data science\" , \"java with dsa system design\"]}"
   ]
  },
  {
   "cell_type": "code",
   "execution_count": 34,
   "id": "0be08fa1-6b54-4669-be29-de6df06cbbd2",
   "metadata": {},
   "outputs": [
    {
     "data": {
      "text/plain": [
       "{'company': 'pwskills',\n",
       " 'course': ['web dev', 'data science', 'java with dsa system design']}"
      ]
     },
     "execution_count": 34,
     "metadata": {},
     "output_type": "execute_result"
    }
   ],
   "source": [
    "d5"
   ]
  },
  {
   "cell_type": "code",
   "execution_count": 36,
   "id": "a529b6ff-e691-466a-8c13-7a8ced6067da",
   "metadata": {},
   "outputs": [
    {
     "data": {
      "text/plain": [
       "['web dev', 'data science', 'java with dsa system design']"
      ]
     },
     "execution_count": 36,
     "metadata": {},
     "output_type": "execute_result"
    }
   ],
   "source": [
    "d5[\"course\"]"
   ]
  },
  {
   "cell_type": "code",
   "execution_count": 37,
   "id": "0f36b246-595e-487e-a391-00728c5e83c8",
   "metadata": {},
   "outputs": [
    {
     "data": {
      "text/plain": [
       "'java with dsa system design'"
      ]
     },
     "execution_count": 37,
     "metadata": {},
     "output_type": "execute_result"
    }
   ],
   "source": [
    "d5 [\"course\"][2]"
   ]
  },
  {
   "cell_type": "code",
   "execution_count": 47,
   "id": "6d7aa3b7-0f8b-469e-80f9-866098109496",
   "metadata": {},
   "outputs": [],
   "source": [
    "d6 = {\"number\" : [2,34,4,4,56], \"assignment\" : (1,2,3,4,5,6,), \"Lunch_date\" : {28,12,14} , \"class_time\" : {\"web_dev\": 8 , \"data_science\": 8 , \"java with dsa system design\" : 7}}"
   ]
  },
  {
   "cell_type": "code",
   "execution_count": 48,
   "id": "99b54102-4c93-4a8e-b330-821c1358e642",
   "metadata": {},
   "outputs": [
    {
     "data": {
      "text/plain": [
       "{'number': [2, 34, 4, 4, 56],\n",
       " 'assignment': (1, 2, 3, 4, 5, 6),\n",
       " 'Lunch_date': {12, 14, 28},\n",
       " 'class_time': {'web_dev': 8,\n",
       "  'data_science': 8,\n",
       "  'java with dsa system design': 7}}"
      ]
     },
     "execution_count": 48,
     "metadata": {},
     "output_type": "execute_result"
    }
   ],
   "source": [
    "d6"
   ]
  },
  {
   "cell_type": "code",
   "execution_count": 51,
   "id": "affa0015-0770-4c60-8bcf-af13d60fdb3b",
   "metadata": {},
   "outputs": [
    {
     "data": {
      "text/plain": [
       "7"
      ]
     },
     "execution_count": 51,
     "metadata": {},
     "output_type": "execute_result"
    }
   ],
   "source": [
    "d6[\"class_time\"]['java with dsa system design']"
   ]
  },
  {
   "cell_type": "code",
   "execution_count": 52,
   "id": "f0233458-3af2-4d59-b340-784dc4a10a9d",
   "metadata": {},
   "outputs": [
    {
     "data": {
      "text/plain": [
       "{'number': [2, 34, 4, 4, 56],\n",
       " 'assignment': (1, 2, 3, 4, 5, 6),\n",
       " 'Lunch_date': {12, 14, 28},\n",
       " 'class_time': {'web_dev': 8,\n",
       "  'data_science': 8,\n",
       "  'java with dsa system design': 7}}"
      ]
     },
     "execution_count": 52,
     "metadata": {},
     "output_type": "execute_result"
    }
   ],
   "source": [
    "d6"
   ]
  },
  {
   "cell_type": "code",
   "execution_count": 53,
   "id": "a51660d2-eed0-41ea-beed-8eb65c05d8d0",
   "metadata": {},
   "outputs": [],
   "source": [
    "d6[\"mentor\"] = [\"sudhanshu\",\"krish\",\"anurag\",\"hayder\"]"
   ]
  },
  {
   "cell_type": "code",
   "execution_count": 54,
   "id": "6650a1a7-ace4-4536-b362-f9d95a081d54",
   "metadata": {},
   "outputs": [
    {
     "data": {
      "text/plain": [
       "{'number': [2, 34, 4, 4, 56],\n",
       " 'assignment': (1, 2, 3, 4, 5, 6),\n",
       " 'Lunch_date': {12, 14, 28},\n",
       " 'class_time': {'web_dev': 8,\n",
       "  'data_science': 8,\n",
       "  'java with dsa system design': 7},\n",
       " 'mentor': ['sudhanshu', 'krish', 'anurag', 'hayder']}"
      ]
     },
     "execution_count": 54,
     "metadata": {},
     "output_type": "execute_result"
    }
   ],
   "source": [
    "d6"
   ]
  },
  {
   "cell_type": "code",
   "execution_count": 55,
   "id": "4ea0412b-9822-4f53-b64e-085a79b9e847",
   "metadata": {},
   "outputs": [],
   "source": [
    "del d6[\"number\"]"
   ]
  },
  {
   "cell_type": "code",
   "execution_count": 56,
   "id": "6a9ed015-7f1f-4099-a949-88e966d85330",
   "metadata": {},
   "outputs": [
    {
     "data": {
      "text/plain": [
       "{'assignment': (1, 2, 3, 4, 5, 6),\n",
       " 'Lunch_date': {12, 14, 28},\n",
       " 'class_time': {'web_dev': 8,\n",
       "  'data_science': 8,\n",
       "  'java with dsa system design': 7},\n",
       " 'mentor': ['sudhanshu', 'krish', 'anurag', 'hayder']}"
      ]
     },
     "execution_count": 56,
     "metadata": {},
     "output_type": "execute_result"
    }
   ],
   "source": [
    "d6"
   ]
  },
  {
   "cell_type": "code",
   "execution_count": 58,
   "id": "3121645c-af78-4150-9ffc-acea8ad526f4",
   "metadata": {},
   "outputs": [
    {
     "data": {
      "text/plain": [
       "['assignment', 'Lunch_date', 'class_time', 'mentor']"
      ]
     },
     "execution_count": 58,
     "metadata": {},
     "output_type": "execute_result"
    }
   ],
   "source": [
    "list(d6.keys())"
   ]
  },
  {
   "cell_type": "code",
   "execution_count": 60,
   "id": "7cdb478c-e7ad-4d25-8fc3-6e64a4d6cc9e",
   "metadata": {},
   "outputs": [
    {
     "data": {
      "text/plain": [
       "[(1, 2, 3, 4, 5, 6),\n",
       " {12, 14, 28},\n",
       " {'web_dev': 8, 'data_science': 8, 'java with dsa system design': 7},\n",
       " ['sudhanshu', 'krish', 'anurag', 'hayder']]"
      ]
     },
     "execution_count": 60,
     "metadata": {},
     "output_type": "execute_result"
    }
   ],
   "source": [
    "list(d6.values())"
   ]
  },
  {
   "cell_type": "code",
   "execution_count": 61,
   "id": "88ca83b4-10e4-4982-b451-562bf99b2389",
   "metadata": {},
   "outputs": [
    {
     "data": {
      "text/plain": [
       "[('assignment', (1, 2, 3, 4, 5, 6)),\n",
       " ('Lunch_date', {12, 14, 28}),\n",
       " ('class_time',\n",
       "  {'web_dev': 8, 'data_science': 8, 'java with dsa system design': 7}),\n",
       " ('mentor', ['sudhanshu', 'krish', 'anurag', 'hayder'])]"
      ]
     },
     "execution_count": 61,
     "metadata": {},
     "output_type": "execute_result"
    }
   ],
   "source": [
    "list(d6.items())"
   ]
  },
  {
   "cell_type": "code",
   "execution_count": 63,
   "id": "41590913-1e95-4fb8-8288-883104933b85",
   "metadata": {},
   "outputs": [
    {
     "data": {
      "text/plain": [
       "(1, 2, 3, 4, 5, 6)"
      ]
     },
     "execution_count": 63,
     "metadata": {},
     "output_type": "execute_result"
    }
   ],
   "source": [
    "d6.pop('assignment')"
   ]
  },
  {
   "cell_type": "code",
   "execution_count": 64,
   "id": "9b815402-60ea-4b52-b773-3af756e1d46c",
   "metadata": {},
   "outputs": [
    {
     "data": {
      "text/plain": [
       "{'Lunch_date': {12, 14, 28},\n",
       " 'class_time': {'web_dev': 8,\n",
       "  'data_science': 8,\n",
       "  'java with dsa system design': 7},\n",
       " 'mentor': ['sudhanshu', 'krish', 'anurag', 'hayder']}"
      ]
     },
     "execution_count": 64,
     "metadata": {},
     "output_type": "execute_result"
    }
   ],
   "source": [
    "d6"
   ]
  },
  {
   "cell_type": "code",
   "execution_count": null,
   "id": "39587465-22fd-4a24-b5d6-c1cf8250fc00",
   "metadata": {},
   "outputs": [],
   "source": []
  }
 ],
 "metadata": {
  "kernelspec": {
   "display_name": "Python 3 (ipykernel)",
   "language": "python",
   "name": "python3"
  },
  "language_info": {
   "codemirror_mode": {
    "name": "ipython",
    "version": 3
   },
   "file_extension": ".py",
   "mimetype": "text/x-python",
   "name": "python",
   "nbconvert_exporter": "python",
   "pygments_lexer": "ipython3",
   "version": "3.10.8"
  }
 },
 "nbformat": 4,
 "nbformat_minor": 5
}
