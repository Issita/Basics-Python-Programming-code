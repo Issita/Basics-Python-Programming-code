{
 "cells": [
  {
   "cell_type": "code",
   "execution_count": 2,
   "id": "52809617-e49f-4c1d-8134-25a5a7f2407e",
   "metadata": {},
   "outputs": [],
   "source": [
    "t = (2,3,4,5,\"ishu\", 45.67,False,45+6j,[3,4,5])"
   ]
  },
  {
   "cell_type": "code",
   "execution_count": 3,
   "id": "8f774c02-0256-43f4-8294-a2101ffad3eb",
   "metadata": {},
   "outputs": [
    {
     "data": {
      "text/plain": [
       "(2, 3, 4, 5, 'ishu', 45.67, False, (45+6j), [3, 4, 5])"
      ]
     },
     "execution_count": 3,
     "metadata": {},
     "output_type": "execute_result"
    }
   ],
   "source": [
    "t"
   ]
  },
  {
   "cell_type": "code",
   "execution_count": 4,
   "id": "c567adf0-89c3-450e-b52d-8bbf49bd0e6c",
   "metadata": {},
   "outputs": [
    {
     "data": {
      "text/plain": [
       "tuple"
      ]
     },
     "execution_count": 4,
     "metadata": {},
     "output_type": "execute_result"
    }
   ],
   "source": [
    "type(t)"
   ]
  },
  {
   "cell_type": "code",
   "execution_count": 6,
   "id": "3d061877-a322-47d9-a05a-99b389887d4a",
   "metadata": {},
   "outputs": [
    {
     "data": {
      "text/plain": [
       "9"
      ]
     },
     "execution_count": 6,
     "metadata": {},
     "output_type": "execute_result"
    }
   ],
   "source": [
    "len(t)"
   ]
  },
  {
   "cell_type": "code",
   "execution_count": 7,
   "id": "324f0611-6d75-47e2-8c38-4011e21ad5e6",
   "metadata": {},
   "outputs": [
    {
     "data": {
      "text/plain": [
       "2"
      ]
     },
     "execution_count": 7,
     "metadata": {},
     "output_type": "execute_result"
    }
   ],
   "source": [
    "t[0]"
   ]
  },
  {
   "cell_type": "code",
   "execution_count": 8,
   "id": "0aad0385-6a95-459d-bec6-224491beecb1",
   "metadata": {},
   "outputs": [
    {
     "data": {
      "text/plain": [
       "([3, 4, 5], (45+6j), False, 45.67, 'ishu', 5, 4, 3, 2)"
      ]
     },
     "execution_count": 8,
     "metadata": {},
     "output_type": "execute_result"
    }
   ],
   "source": [
    "t[::-1]"
   ]
  },
  {
   "cell_type": "code",
   "execution_count": 9,
   "id": "375eb5aa-7e8b-4f58-99e6-ff67249655e9",
   "metadata": {},
   "outputs": [],
   "source": [
    "l4 = ['raghua', 'pwskill', 'pri', 'labanyabati', 'Ishu']"
   ]
  },
  {
   "cell_type": "code",
   "execution_count": 10,
   "id": "6d227ad8-c777-4fda-88c4-67184946e7d6",
   "metadata": {},
   "outputs": [
    {
     "data": {
      "text/plain": [
       "['raghua', 'pwskill', 'pri', 'labanyabati', 'Ishu']"
      ]
     },
     "execution_count": 10,
     "metadata": {},
     "output_type": "execute_result"
    }
   ],
   "source": [
    "l4"
   ]
  },
  {
   "cell_type": "code",
   "execution_count": 11,
   "id": "f3f95a72-af56-4968-8b82-831ed82480eb",
   "metadata": {},
   "outputs": [],
   "source": [
    "l4[0] = 23244"
   ]
  },
  {
   "cell_type": "code",
   "execution_count": 12,
   "id": "3279e24c-c082-4c30-8d17-5b1fe2e45f97",
   "metadata": {},
   "outputs": [
    {
     "data": {
      "text/plain": [
       "[23244, 'pwskill', 'pri', 'labanyabati', 'Ishu']"
      ]
     },
     "execution_count": 12,
     "metadata": {},
     "output_type": "execute_result"
    }
   ],
   "source": [
    "l4"
   ]
  },
  {
   "cell_type": "code",
   "execution_count": 13,
   "id": "0e431cbb-e8ec-4339-b956-947fc3d31bae",
   "metadata": {},
   "outputs": [
    {
     "data": {
      "text/plain": [
       "(2, 3, 4, 5, 'ishu', 45.67, False, (45+6j), [3, 4, 5])"
      ]
     },
     "execution_count": 13,
     "metadata": {},
     "output_type": "execute_result"
    }
   ],
   "source": [
    "t"
   ]
  },
  {
   "cell_type": "code",
   "execution_count": 16,
   "id": "c359cc37-e144-4748-80d0-7669d27e6feb",
   "metadata": {},
   "outputs": [
    {
     "ename": "TypeError",
     "evalue": "'tuple' object does not support item assignment",
     "output_type": "error",
     "traceback": [
      "\u001b[0;31m---------------------------------------------------------------------------\u001b[0m",
      "\u001b[0;31mTypeError\u001b[0m                                 Traceback (most recent call last)",
      "Cell \u001b[0;32mIn[16], line 1\u001b[0m\n\u001b[0;32m----> 1\u001b[0m \u001b[43mt\u001b[49m\u001b[43m[\u001b[49m\u001b[38;5;241;43m0\u001b[39;49m\u001b[43m]\u001b[49m \u001b[38;5;241m=\u001b[39m \u001b[38;5;124m\"\u001b[39m\u001b[38;5;124msubh\u001b[39m\u001b[38;5;124m\"\u001b[39m\n",
      "\u001b[0;31mTypeError\u001b[0m: 'tuple' object does not support item assignment"
     ]
    }
   ],
   "source": [
    "t[0] = \"subh\""
   ]
  },
  {
   "cell_type": "code",
   "execution_count": 17,
   "id": "3378a089-7aba-4232-8363-99b0469527a0",
   "metadata": {},
   "outputs": [],
   "source": [
    "# tuples are immuteable\n",
    "# list are mutable"
   ]
  },
  {
   "cell_type": "code",
   "execution_count": 18,
   "id": "c9503208-f6c9-4791-be38-4d5afb61b04d",
   "metadata": {},
   "outputs": [
    {
     "data": {
      "text/plain": [
       "([3, 4, 5], (45+6j), False, 45.67, 'ishu', 5, 4, 3, 2)"
      ]
     },
     "execution_count": 18,
     "metadata": {},
     "output_type": "execute_result"
    }
   ],
   "source": [
    "t[::-1]"
   ]
  },
  {
   "cell_type": "code",
   "execution_count": 20,
   "id": "7c729444-a1d0-46ba-b841-678e87fa85d8",
   "metadata": {},
   "outputs": [
    {
     "data": {
      "text/plain": [
       "1"
      ]
     },
     "execution_count": 20,
     "metadata": {},
     "output_type": "execute_result"
    }
   ],
   "source": [
    "t.count(4)"
   ]
  },
  {
   "cell_type": "code",
   "execution_count": 21,
   "id": "de21a055-16fa-456f-abac-f25ab0794b16",
   "metadata": {},
   "outputs": [
    {
     "data": {
      "text/plain": [
       "6"
      ]
     },
     "execution_count": 21,
     "metadata": {},
     "output_type": "execute_result"
    }
   ],
   "source": [
    "t.index(False)"
   ]
  },
  {
   "cell_type": "code",
   "execution_count": 22,
   "id": "d1eb8c97-8482-4352-a794-7b2bf1d374d4",
   "metadata": {},
   "outputs": [
    {
     "data": {
      "text/plain": [
       "(2, 3, 4, 5, 'ishu', 45.67, False, (45+6j), [3, 4, 5])"
      ]
     },
     "execution_count": 22,
     "metadata": {},
     "output_type": "execute_result"
    }
   ],
   "source": [
    "t"
   ]
  },
  {
   "cell_type": "code",
   "execution_count": null,
   "id": "4b35074a-e409-4571-8072-a9e717679fe8",
   "metadata": {},
   "outputs": [],
   "source": []
  }
 ],
 "metadata": {
  "kernelspec": {
   "display_name": "Python 3 (ipykernel)",
   "language": "python",
   "name": "python3"
  },
  "language_info": {
   "codemirror_mode": {
    "name": "ipython",
    "version": 3
   },
   "file_extension": ".py",
   "mimetype": "text/x-python",
   "name": "python",
   "nbconvert_exporter": "python",
   "pygments_lexer": "ipython3",
   "version": "3.10.8"
  }
 },
 "nbformat": 4,
 "nbformat_minor": 5
}
