{
 "cells": [
  {
   "cell_type": "code",
   "execution_count": 1,
   "id": "bcddb0de-6037-463d-ae8a-34c3f061756b",
   "metadata": {
    "tags": []
   },
   "outputs": [
    {
     "name": "stdin",
     "output_type": "stream",
     "text": [
      " 65\n"
     ]
    },
    {
     "name": "stdout",
     "output_type": "stream",
     "text": [
      "You will be a part of A1 batch\n"
     ]
    }
   ],
   "source": [
    "marks = int (input())\n",
    "if marks >= 80 :\n",
    "    print (\"You will be a part of A0 batch\")\n",
    "elif marks < 80 and marks >=60 :\n",
    "    print (\"You will be a part of A1 batch\")\n",
    "elif marks < 60 and marks >= 40 :\n",
    "    print (\"You will be a part of A2 batch\")\n",
    "else:\n",
    "    print (\"You will be a part of A3 batch\")\n",
    "\n"
   ]
  },
  {
   "cell_type": "code",
   "execution_count": 2,
   "id": "2dfd2e1c-a4f2-449a-8099-5c1a70a566fb",
   "metadata": {},
   "outputs": [
    {
     "data": {
      "text/plain": [
       "False"
      ]
     },
     "execution_count": 2,
     "metadata": {},
     "output_type": "execute_result"
    }
   ],
   "source": [
    "10>=80"
   ]
  },
  {
   "cell_type": "code",
   "execution_count": 11,
   "id": "872b61c3-08a5-4dd5-83f3-65df36f649ca",
   "metadata": {},
   "outputs": [
    {
     "name": "stdin",
     "output_type": "stream",
     "text": [
      "Enter Price:  200\n"
     ]
    },
    {
     "name": "stdout",
     "output_type": "stream",
     "text": [
      "I will purchase\n"
     ]
    }
   ],
   "source": [
    "price = int (input(\"Enter Price: \"))\n",
    "if price > 1000:\n",
    "    print (\"I will not purchase\")\n",
    "    if price > 5000:\n",
    "        print (\"this is too much\")\n",
    "    elif price < 2000:\n",
    "        print (\"It's ok\") \n",
    "elif price < 1000:\n",
    "    print(\"I will purchase\")\n",
    "else: \n",
    "    print(\"i am not intrested\")"
   ]
  },
  {
   "cell_type": "code",
   "execution_count": 12,
   "id": "269d8a10-264d-44f5-a903-b16f5555e931",
   "metadata": {},
   "outputs": [],
   "source": [
    "l = [1,2,3,4,5,6,7,8]"
   ]
  },
  {
   "cell_type": "code",
   "execution_count": 13,
   "id": "8af81f08-1c88-4ad9-8bb2-ae0ef0ad6420",
   "metadata": {},
   "outputs": [
    {
     "data": {
      "text/plain": [
       "1"
      ]
     },
     "execution_count": 13,
     "metadata": {},
     "output_type": "execute_result"
    }
   ],
   "source": [
    "l [0]"
   ]
  },
  {
   "cell_type": "code",
   "execution_count": 14,
   "id": "146fd66a-f371-4718-8851-e5a15e5af0a0",
   "metadata": {},
   "outputs": [
    {
     "data": {
      "text/plain": [
       "2"
      ]
     },
     "execution_count": 14,
     "metadata": {},
     "output_type": "execute_result"
    }
   ],
   "source": [
    "l[0] +1"
   ]
  },
  {
   "cell_type": "code",
   "execution_count": 15,
   "id": "6b94f9ad-f963-4010-834c-aaced408385d",
   "metadata": {},
   "outputs": [],
   "source": [
    "l1 =[]"
   ]
  },
  {
   "cell_type": "code",
   "execution_count": 18,
   "id": "1f64564f-ce14-4876-adec-7de8524ed588",
   "metadata": {},
   "outputs": [],
   "source": [
    "l1.append(l[0] +1)"
   ]
  },
  {
   "cell_type": "markdown",
   "id": "0ec8e888-7046-4dcb-b49e-894011f00249",
   "metadata": {},
   "source": [
    "l1 "
   ]
  },
  {
   "cell_type": "code",
   "execution_count": 19,
   "id": "af480608-48a9-480f-86be-144b8ac3b0ce",
   "metadata": {},
   "outputs": [
    {
     "data": {
      "text/plain": [
       "[2]"
      ]
     },
     "execution_count": 19,
     "metadata": {},
     "output_type": "execute_result"
    }
   ],
   "source": [
    "l1"
   ]
  },
  {
   "cell_type": "code",
   "execution_count": 20,
   "id": "5ff1263c-4fd5-490f-baf4-7af505fe2f4a",
   "metadata": {},
   "outputs": [],
   "source": [
    "l = [1,2,3,4,5,6,7,8] #ittrable variable"
   ]
  },
  {
   "cell_type": "code",
   "execution_count": 24,
   "id": "dae9753e-bdbf-4443-bdb5-bc2ca9c09782",
   "metadata": {},
   "outputs": [
    {
     "name": "stdout",
     "output_type": "stream",
     "text": [
      "2\n",
      "3\n",
      "4\n",
      "5\n",
      "6\n",
      "7\n",
      "8\n",
      "9\n"
     ]
    },
    {
     "data": {
      "text/plain": [
       "[2, 3, 4, 5, 6, 7, 8, 9]"
      ]
     },
     "execution_count": 24,
     "metadata": {},
     "output_type": "execute_result"
    }
   ],
   "source": [
    "l1 = []\n",
    "for i in l:\n",
    "    print(i + 1)\n",
    "    l1.append(i + 1)\n",
    "l1"
   ]
  },
  {
   "cell_type": "code",
   "execution_count": 25,
   "id": "76cdd022-9a03-46ef-ab0e-a969d0bf3c39",
   "metadata": {},
   "outputs": [
    {
     "data": {
      "text/plain": [
       "[1, 2, 3, 4, 5, 6, 7, 8]"
      ]
     },
     "execution_count": 25,
     "metadata": {},
     "output_type": "execute_result"
    }
   ],
   "source": [
    "l"
   ]
  },
  {
   "cell_type": "code",
   "execution_count": 26,
   "id": "adcc9230-ed73-4569-b994-cc73849ae7f7",
   "metadata": {},
   "outputs": [],
   "source": [
    "l = [\"ishu\", \"priyadarshini\", \"good_student\", \"myself\"]"
   ]
  },
  {
   "cell_type": "code",
   "execution_count": 38,
   "id": "fc38be42-724c-49b7-b707-b1d62ef752f7",
   "metadata": {},
   "outputs": [
    {
     "name": "stdout",
     "output_type": "stream",
     "text": [
      "ishu\n",
      "priyadarshini\n",
      "good_student\n",
      "myself\n"
     ]
    },
    {
     "data": {
      "text/plain": [
       "['ISHU', 'PRIYADARSHINI', 'GOOD_STUDENT', 'MYSELF']"
      ]
     },
     "execution_count": 38,
     "metadata": {},
     "output_type": "execute_result"
    }
   ],
   "source": [
    "l1 = []\n",
    "for i in l:\n",
    "    print(i)\n",
    "    l1.append(i.upper())\n",
    "l1\n",
    "    "
   ]
  },
  {
   "cell_type": "code",
   "execution_count": 40,
   "id": "586b1313-09f6-4cce-a670-5401f121372c",
   "metadata": {},
   "outputs": [
    {
     "data": {
      "text/plain": [
       "['ISHU', 'PRIYADARSHINI', 'GOOD_STUDENT', 'MYSELF']"
      ]
     },
     "execution_count": 40,
     "metadata": {},
     "output_type": "execute_result"
    }
   ],
   "source": [
    "l1"
   ]
  },
  {
   "cell_type": "code",
   "execution_count": 41,
   "id": "4a37ae5d-4a23-4810-aa99-d6787d789738",
   "metadata": {},
   "outputs": [],
   "source": [
    "l = [1,2,3,4,5,\"ishhu\", \"priya\",345.67,567,\"abc\"]"
   ]
  },
  {
   "cell_type": "code",
   "execution_count": 51,
   "id": "96b71665-3b68-4d65-a82a-82f88d67b891",
   "metadata": {},
   "outputs": [],
   "source": [
    "l1_num =[]\n",
    "l2_str =[]\n",
    "\n",
    "for i in l:\n",
    "    if type(i) == int or type(i) == float:\n",
    "        l1_num.append(i)\n",
    "    else:\n",
    "        l2_str.append(i)\n",
    "    \n"
   ]
  },
  {
   "cell_type": "code",
   "execution_count": 52,
   "id": "670e3efa-0481-408e-ba04-58d0a388fa3b",
   "metadata": {},
   "outputs": [
    {
     "data": {
      "text/plain": [
       "[]"
      ]
     },
     "execution_count": 52,
     "metadata": {},
     "output_type": "execute_result"
    }
   ],
   "source": [
    "l1"
   ]
  },
  {
   "cell_type": "code",
   "execution_count": 53,
   "id": "abab9c60-4950-449f-b892-6ebfe3ef7ff3",
   "metadata": {},
   "outputs": [
    {
     "data": {
      "text/plain": [
       "[1, 2, 3, 4, 5, 345.67, 567]"
      ]
     },
     "execution_count": 53,
     "metadata": {},
     "output_type": "execute_result"
    }
   ],
   "source": [
    "l1_num\n"
   ]
  },
  {
   "cell_type": "code",
   "execution_count": 54,
   "id": "e01b2fa4-bc68-4c55-8db0-52980019eb47",
   "metadata": {},
   "outputs": [
    {
     "data": {
      "text/plain": [
       "['ishhu', 'priya', 'abc']"
      ]
     },
     "execution_count": 54,
     "metadata": {},
     "output_type": "execute_result"
    }
   ],
   "source": [
    "l2_str"
   ]
  },
  {
   "cell_type": "code",
   "execution_count": null,
   "id": "873bc7d9-a537-489e-b1aa-052b8e188225",
   "metadata": {},
   "outputs": [],
   "source": []
  }
 ],
 "metadata": {
  "kernelspec": {
   "display_name": "Python 3 (ipykernel)",
   "language": "python",
   "name": "python3"
  },
  "language_info": {
   "codemirror_mode": {
    "name": "ipython",
    "version": 3
   },
   "file_extension": ".py",
   "mimetype": "text/x-python",
   "name": "python",
   "nbconvert_exporter": "python",
   "pygments_lexer": "ipython3",
   "version": "3.10.8"
  }
 },
 "nbformat": 4,
 "nbformat_minor": 5
}
