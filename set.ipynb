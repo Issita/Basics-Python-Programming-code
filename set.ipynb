{
 "cells": [
  {
   "cell_type": "code",
   "execution_count": 1,
   "id": "d238f5bb-5050-4802-ac56-186826ed4946",
   "metadata": {},
   "outputs": [],
   "source": [
    "s1 = {}"
   ]
  },
  {
   "cell_type": "code",
   "execution_count": 2,
   "id": "7aa3ea6f-3235-41f7-a302-8035cd37d290",
   "metadata": {},
   "outputs": [
    {
     "data": {
      "text/plain": [
       "type"
      ]
     },
     "execution_count": 2,
     "metadata": {},
     "output_type": "execute_result"
    }
   ],
   "source": [
    "type"
   ]
  },
  {
   "cell_type": "code",
   "execution_count": 3,
   "id": "829c9dd0-ab4c-40ab-88fa-71f16d2a0a6f",
   "metadata": {},
   "outputs": [
    {
     "data": {
      "text/plain": [
       "dict"
      ]
     },
     "execution_count": 3,
     "metadata": {},
     "output_type": "execute_result"
    }
   ],
   "source": [
    "type(s1)"
   ]
  },
  {
   "cell_type": "code",
   "execution_count": 4,
   "id": "c44bc8c0-11b2-4adf-a01a-79445ede06bb",
   "metadata": {},
   "outputs": [],
   "source": [
    "s2 = {2,3,4,5,55}"
   ]
  },
  {
   "cell_type": "code",
   "execution_count": 6,
   "id": "8292ac3c-848a-4882-a0b8-3da7bfb1aac5",
   "metadata": {},
   "outputs": [
    {
     "data": {
      "text/plain": [
       "{2, 3, 4, 5, 55}"
      ]
     },
     "execution_count": 6,
     "metadata": {},
     "output_type": "execute_result"
    }
   ],
   "source": [
    "s2"
   ]
  },
  {
   "cell_type": "code",
   "execution_count": 7,
   "id": "f8cdbc10-d810-44c6-84ec-5d2f912407f8",
   "metadata": {},
   "outputs": [
    {
     "data": {
      "text/plain": [
       "set"
      ]
     },
     "execution_count": 7,
     "metadata": {},
     "output_type": "execute_result"
    }
   ],
   "source": [
    "type(s2)"
   ]
  },
  {
   "cell_type": "code",
   "execution_count": 9,
   "id": "9b4c19d5-b866-440f-a0d5-654e599fac13",
   "metadata": {},
   "outputs": [],
   "source": [
    "s3 = {324,456,456,\"ishu\",45+45j,34.567,(2,3,4)}"
   ]
  },
  {
   "cell_type": "code",
   "execution_count": 10,
   "id": "023bf537-17c2-4658-a3b0-1f73c9e325a5",
   "metadata": {},
   "outputs": [
    {
     "data": {
      "text/plain": [
       "{(2, 3, 4), (45+45j), 324, 34.567, 456, 'ishu'}"
      ]
     },
     "execution_count": 10,
     "metadata": {},
     "output_type": "execute_result"
    }
   ],
   "source": [
    "s3"
   ]
  },
  {
   "cell_type": "code",
   "execution_count": null,
   "id": "60efd1bb-d030-468d-9ca3-5cf0d07a5088",
   "metadata": {},
   "outputs": [],
   "source": [
    "s4 = {2,3,4,5,6,2,2,3,4,5,2,3,1,2,4,5,6,7,2,2,3, \"Ishu\",\"ishu\"}"
   ]
  },
  {
   "cell_type": "code",
   "execution_count": 16,
   "id": "f7529445-53cb-48b7-a7f5-87ee3febe438",
   "metadata": {},
   "outputs": [
    {
     "data": {
      "text/plain": [
       "{1, 2, 3, 4, 5, 6, 7, 'Ishu', 'ishu'}"
      ]
     },
     "execution_count": 16,
     "metadata": {},
     "output_type": "execute_result"
    }
   ],
   "source": [
    "s4"
   ]
  },
  {
   "cell_type": "code",
   "execution_count": 19,
   "id": "2780bc41-390e-4c31-ba95-060c1acf39e7",
   "metadata": {},
   "outputs": [],
   "source": [
    "l6 = [2,3,4,5,6,2,2,3,4,5,2,3,1,2,4,5,6,7,2,2,3, \"Ishu\",\"ishu\"]"
   ]
  },
  {
   "cell_type": "code",
   "execution_count": 24,
   "id": "9a26b574-3e54-4a8d-919c-8e24b7df458a",
   "metadata": {},
   "outputs": [],
   "source": [
    "l6 = list(set(l6))"
   ]
  },
  {
   "cell_type": "code",
   "execution_count": 25,
   "id": "deca8953-2594-476c-926f-026cf17e5ccb",
   "metadata": {},
   "outputs": [
    {
     "data": {
      "text/plain": [
       "[1, 2, 3, 4, 5, 6, 7, 'ishu', 'Ishu']"
      ]
     },
     "execution_count": 25,
     "metadata": {},
     "output_type": "execute_result"
    }
   ],
   "source": [
    "l6"
   ]
  },
  {
   "cell_type": "code",
   "execution_count": 23,
   "id": "1a5867bb-207b-4702-a95e-d967b390063b",
   "metadata": {},
   "outputs": [
    {
     "data": {
      "text/plain": [
       "list"
      ]
     },
     "execution_count": 26,
     "metadata": {},
     "output_type": "execute_result"
    }
   ],
   "source": [
    "type(l6)"
   ]
  },
  {
   "cell_type": "code",
   "execution_count": 8,
   "id": "6174c08b-dc4e-4df9-8d55-122face97fa0",
   "metadata": {},
   "outputs": [],
   "source": [
    "s5 = {234,45,23,12,456,678,234,\"abc\",342,23}"
   ]
  },
  {
   "cell_type": "code",
   "execution_count": 9,
   "id": "bd71c0a6-c5e8-415a-84f9-4a6a07d961e4",
   "metadata": {},
   "outputs": [
    {
     "data": {
      "text/plain": [
       "{12, 23, 234, 342, 45, 456, 678, 'abc'}"
      ]
     },
     "execution_count": 9,
     "metadata": {},
     "output_type": "execute_result"
    }
   ],
   "source": [
    "s5"
   ]
  },
  {
   "cell_type": "code",
   "execution_count": 10,
   "id": "9aebf13e-4ed8-4a47-84ae-4965286e6bd8",
   "metadata": {},
   "outputs": [],
   "source": [
    "# set naver arrange a ordered dataset or create unique unordered "
   ]
  },
  {
   "cell_type": "code",
   "execution_count": 11,
   "id": "32fba5eb-9b91-4120-8b23-c0da05237b5b",
   "metadata": {},
   "outputs": [
    {
     "ename": "TypeError",
     "evalue": "'set' object is not subscriptable",
     "output_type": "error",
     "traceback": [
      "\u001b[0;31m---------------------------------------------------------------------------\u001b[0m",
      "\u001b[0;31mTypeError\u001b[0m                                 Traceback (most recent call last)",
      "Cell \u001b[0;32mIn[11], line 1\u001b[0m\n\u001b[0;32m----> 1\u001b[0m \u001b[43ms5\u001b[49m\u001b[43m[\u001b[49m\u001b[38;5;241;43m0\u001b[39;49m\u001b[43m]\u001b[49m\n",
      "\u001b[0;31mTypeError\u001b[0m: 'set' object is not subscriptable"
     ]
    }
   ],
   "source": [
    "s5[0]"
   ]
  },
  {
   "cell_type": "code",
   "execution_count": 12,
   "id": "f9a96853-9aae-4a37-a184-444d656e66d9",
   "metadata": {},
   "outputs": [
    {
     "ename": "TypeError",
     "evalue": "'set' object is not subscriptable",
     "output_type": "error",
     "traceback": [
      "\u001b[0;31m---------------------------------------------------------------------------\u001b[0m",
      "\u001b[0;31mTypeError\u001b[0m                                 Traceback (most recent call last)",
      "Cell \u001b[0;32mIn[12], line 1\u001b[0m\n\u001b[0;32m----> 1\u001b[0m \u001b[43ms5\u001b[49m\u001b[43m[\u001b[49m\u001b[43m:\u001b[49m\u001b[43m:\u001b[49m\u001b[38;5;241;43m-\u001b[39;49m\u001b[38;5;241;43m1\u001b[39;49m\u001b[43m]\u001b[49m\n",
      "\u001b[0;31mTypeError\u001b[0m: 'set' object is not subscriptable"
     ]
    }
   ],
   "source": [
    "s5[::-1]"
   ]
  },
  {
   "cell_type": "code",
   "execution_count": 13,
   "id": "a2f310c4-6669-4fbc-b4c5-4468a05fc950",
   "metadata": {},
   "outputs": [
    {
     "data": {
      "text/plain": [
       "{12, 23, 234, 342, 45, 456, 678, 'abc'}"
      ]
     },
     "execution_count": 13,
     "metadata": {},
     "output_type": "execute_result"
    }
   ],
   "source": [
    "s5"
   ]
  },
  {
   "cell_type": "code",
   "execution_count": 14,
   "id": "a202081c-a10a-4e93-b8cc-661069227fb5",
   "metadata": {},
   "outputs": [],
   "source": [
    "s5.add(4)"
   ]
  },
  {
   "cell_type": "code",
   "execution_count": 15,
   "id": "471ef9cc-e131-496b-a0a1-f8fabd9a295c",
   "metadata": {},
   "outputs": [
    {
     "data": {
      "text/plain": [
       "{12, 23, 234, 342, 4, 45, 456, 678, 'abc'}"
      ]
     },
     "execution_count": 15,
     "metadata": {},
     "output_type": "execute_result"
    }
   ],
   "source": [
    "s5"
   ]
  },
  {
   "cell_type": "code",
   "execution_count": 16,
   "id": "8143c043-4f62-4e82-a321-ed5a7f9b8281",
   "metadata": {},
   "outputs": [],
   "source": [
    "s5.remove(45)"
   ]
  },
  {
   "cell_type": "code",
   "execution_count": 17,
   "id": "47fea196-4450-4520-a1a7-f4c0e4181e34",
   "metadata": {},
   "outputs": [
    {
     "data": {
      "text/plain": [
       "{12, 23, 234, 342, 4, 456, 678, 'abc'}"
      ]
     },
     "execution_count": 17,
     "metadata": {},
     "output_type": "execute_result"
    }
   ],
   "source": [
    "s5"
   ]
  },
  {
   "cell_type": "code",
   "execution_count": null,
   "id": "288b0e22-cbe4-4dca-a0d4-e987fd372123",
   "metadata": {},
   "outputs": [],
   "source": []
  }
 ],
 "metadata": {
  "kernelspec": {
   "display_name": "Python 3 (ipykernel)",
   "language": "python",
   "name": "python3"
  },
  "language_info": {
   "codemirror_mode": {
    "name": "ipython",
    "version": 3
   },
   "file_extension": ".py",
   "mimetype": "text/x-python",
   "name": "python",
   "nbconvert_exporter": "python",
   "pygments_lexer": "ipython3",
   "version": "3.10.8"
  }
 },
 "nbformat": 4,
 "nbformat_minor": 5
}
